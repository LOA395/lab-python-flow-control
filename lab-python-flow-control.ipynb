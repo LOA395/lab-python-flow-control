{
 "cells": [
  {
   "cell_type": "markdown",
   "id": "d3bfc191-8885-42ee-b0a0-bbab867c6f9f",
   "metadata": {
    "tags": []
   },
   "source": [
    "# Lab | Flow Control"
   ]
  },
  {
   "cell_type": "markdown",
   "id": "3851fcd1-cf98-4653-9c89-e003b7ec9400",
   "metadata": {},
   "source": [
    "## Exercise: Managing Customer Orders Optimized\n",
    "\n",
    "In the last lab, you were starting an online store that sells various products. To ensure smooth operations, you developed a program that manages customer orders and inventory.\n",
    "\n",
    "You did so without using flow control. Let's go a step further and improve this code.\n",
    "\n",
    "Follow the steps below to complete the exercise:\n",
    "\n",
    "1. Look at your code from the lab data structures, and improve repeated code with loops.\n",
    "\n",
    "2. Instead of asking the user to input the name of three products that a customer wants to order, do the following:\n",
    "    \n",
    "    a. Prompt the user to enter the name of a product that a customer wants to order.\n",
    "    \n",
    "    b. Add the product name to the \"customer_orders\" set.\n",
    "    \n",
    "    c. Ask the user if they want to add another product (yes/no).\n",
    "    \n",
    "    d. Continue the loop until the user does not want to add another product.\n",
    "\n",
    "3. Instead of updating the inventory by subtracting 1 from the quantity of each product, only do it for  the products that were ordered (those in \"customer_orders\")."
   ]
  },
  {
   "cell_type": "code",
   "execution_count": 1,
   "id": "2aa24055",
   "metadata": {},
   "outputs": [],
   "source": [
    "# Define a list called products that contains the specified items\n",
    "products = [\"t-shirt\", \"mug\", \"hat\", \"book\", \"keychain\"]\n",
    "\n",
    "# Create an empty dictionary called inventory\n",
    "inventory = {}"
   ]
  },
  {
   "cell_type": "code",
   "execution_count": 2,
   "id": "d166f8ff",
   "metadata": {},
   "outputs": [],
   "source": [
    "# Ask the user to input the quantity of each product in the inventory\n",
    "for product in products:\n",
    "    while True:\n",
    "        try:\n",
    "            quantity = int(input(f\"Enter the quantity of {product}s available in inventory: \"))\n",
    "            if quantity < 0:\n",
    "                print(\"Quantity can't be negative. Please enter a valid number.\")\n",
    "                continue\n",
    "            inventory[product] = quantity\n",
    "            break\n",
    "        except ValueError:\n",
    "            print(\"Invalid input. Please enter a number.\")"
   ]
  },
  {
   "cell_type": "code",
   "execution_count": 3,
   "id": "228617d4",
   "metadata": {},
   "outputs": [],
   "source": [
    "# Create an empty set called customer_orders\n",
    "customer_orders = set()"
   ]
  },
  {
   "cell_type": "code",
   "execution_count": 4,
   "id": "66dad8b4",
   "metadata": {},
   "outputs": [
    {
     "name": "stdout",
     "output_type": "stream",
     "text": [
      "Invalid input. Please enter 'yes' or 'no'.\n",
      "Invalid product name. Please try again.\n",
      "Invalid product name. Please try again.\n"
     ]
    }
   ],
   "source": [
    "# Ask the user to enter the name of a product that a customer wants to order\n",
    "while True:\n",
    "    while True:\n",
    "        order = input(f\"Enter the name of product to order({', '.join(products)}): \").lower()\n",
    "        if order in products:\n",
    "            customer_orders.add(order)\n",
    "            break\n",
    "        else:\n",
    "            print(\"Invalid product name. Please try again.\")\n",
    "    while True:\n",
    "        control = input(\"Do you want to add another product? (yes/no): \").lower()\n",
    "        if control in [\"yes\", \"no\"]:\n",
    "            break\n",
    "        else:\n",
    "            print(\"Invalid input. Please enter 'yes' or 'no'.\")\n",
    "    if control == \"no\":\n",
    "        break\n",
    "\n",
    "    "
   ]
  },
  {
   "cell_type": "code",
   "execution_count": 5,
   "id": "67cb5c68",
   "metadata": {},
   "outputs": [
    {
     "name": "stdout",
     "output_type": "stream",
     "text": [
      "{'hat', 'book', 'mug'}\n"
     ]
    }
   ],
   "source": [
    "print(customer_orders)  # Print the customer_orders"
   ]
  },
  {
   "cell_type": "code",
   "execution_count": 6,
   "id": "ccf33d45",
   "metadata": {},
   "outputs": [],
   "source": [
    "# Update the inventory\n",
    "for order in customer_orders:\n",
    "    if inventory[order] > 0:\n",
    "        inventory[order] -= 1\n",
    "    else:\n",
    "        print(f\"Warning: {order} is out of stock!\")"
   ]
  },
  {
   "cell_type": "code",
   "execution_count": 7,
   "id": "c4eaf56e",
   "metadata": {},
   "outputs": [
    {
     "name": "stdout",
     "output_type": "stream",
     "text": [
      "\n",
      "Updated Inventory:\n",
      "t-shirt: 9\n",
      "mug: 5\n",
      "hat: 3\n",
      "book: 2\n",
      "keychain: 7\n"
     ]
    }
   ],
   "source": [
    "# Print the updated inventory\n",
    "print(\"\\nUpdated Inventory:\")\n",
    "for product, quantity in inventory.items():\n",
    "    print(f\"{product}: {quantity}\")"
   ]
  }
 ],
 "metadata": {
  "kernelspec": {
   "display_name": "Python 3 (ipykernel)",
   "language": "python",
   "name": "python3"
  },
  "language_info": {
   "codemirror_mode": {
    "name": "ipython",
    "version": 3
   },
   "file_extension": ".py",
   "mimetype": "text/x-python",
   "name": "python",
   "nbconvert_exporter": "python",
   "pygments_lexer": "ipython3",
   "version": "3.9.13"
  }
 },
 "nbformat": 4,
 "nbformat_minor": 5
}
